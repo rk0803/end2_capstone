{
  "nbformat": 4,
  "nbformat_minor": 0,
  "metadata": {
    "colab": {
      "name": "data_preparation.ipynb",
      "provenance": [],
      "collapsed_sections": [],
      "machine_shape": "hm"
    },
    "kernelspec": {
      "name": "python3",
      "display_name": "Python 3"
    },
    "language_info": {
      "name": "python"
    },
    "accelerator": "GPU"
  },
  "cells": [
    {
      "cell_type": "code",
      "metadata": {
        "id": "BLcW0Mm7oUq-"
      },
      "source": [
        "import pandas as pd\n",
        "import numpy as np\n",
        "import torch\n",
        "from sklearn.model_selection import train_test_split"
      ],
      "execution_count": null,
      "outputs": []
    },
    {
      "cell_type": "markdown",
      "metadata": {
        "id": "XoCD9iQoMMk4"
      },
      "source": [
        "#Data Preparation\n",
        "This is the data preparation module. At this point I have taken the dataset only from pytorch documentation team. \n",
        "json file is read and converted to a csv file.\n",
        "That csv file is then read split into train and test files and written back as **train_qa.csv** and **test_qa.csv** . This step only needs to be done once.\n",
        "Once the data is split into train and test set, only these two csv files need to be read."
      ]
    },
    {
      "cell_type": "code",
      "metadata": {
        "id": "MuhPaDEIonj8"
      },
      "source": [
        "#Next four steps need to done only once.\n",
        "\n",
        "rk_qa=pd.read_json(\"/content/drive/MyDrive/dataset/pytorchdocumentatioQA.json\")\n",
        "\n",
        "cols=[\"X\",\"Y\",\"Z\"]\n",
        "newrkqa=pd.DataFrame(rk_qa,columns=cols)\n",
        "newrkqa.head()\n",
        "newrkqa.to_csv(\"/content/drive/MyDrive/pyqa.csv\",index=False)"
      ],
      "execution_count": null,
      "outputs": []
    },
    {
      "cell_type": "code",
      "metadata": {
        "id": "Dmr0k34fb482"
      },
      "source": [
        "data=pd.read_csv(\"/content/drive/MyDrive/pyqa.csv\")\n",
        "train_data, test_data=train_test_split(data, train_size=0.75)"
      ],
      "execution_count": null,
      "outputs": []
    },
    {
      "cell_type": "code",
      "metadata": {
        "id": "1hH8e8l9qeIo"
      },
      "source": [
        "train_data.to_csv(\"/content/drive/MyDrive/train_qa.csv\",index=False)"
      ],
      "execution_count": null,
      "outputs": []
    },
    {
      "cell_type": "code",
      "metadata": {
        "id": "8-uyJ6Q4S1U5"
      },
      "source": [
        "test_data.to_csv(\"/content/drive/MyDrive/test_qa.csv\",index=False)"
      ],
      "execution_count": null,
      "outputs": []
    },
    {
      "cell_type": "code",
      "metadata": {
        "colab": {
          "base_uri": "https://localhost:8080/",
          "height": 204
        },
        "id": "vnP0QX9OqjTf",
        "outputId": "e79cd4d5-128b-436e-eeca-2c72192c1cbf"
      },
      "source": [
        "train_data.head()"
      ],
      "execution_count": null,
      "outputs": [
        {
          "output_type": "execute_result",
          "data": {
            "text/html": [
              "<div>\n",
              "<style scoped>\n",
              "    .dataframe tbody tr th:only-of-type {\n",
              "        vertical-align: middle;\n",
              "    }\n",
              "\n",
              "    .dataframe tbody tr th {\n",
              "        vertical-align: top;\n",
              "    }\n",
              "\n",
              "    .dataframe thead th {\n",
              "        text-align: right;\n",
              "    }\n",
              "</style>\n",
              "<table border=\"1\" class=\"dataframe\">\n",
              "  <thead>\n",
              "    <tr style=\"text-align: right;\">\n",
              "      <th></th>\n",
              "      <th>X</th>\n",
              "      <th>Y</th>\n",
              "      <th>Z</th>\n",
              "    </tr>\n",
              "  </thead>\n",
              "  <tbody>\n",
              "    <tr>\n",
              "      <th>0</th>\n",
              "      <td>How to use torch.atan, give an example?</td>\n",
              "      <td>&gt;&gt;&gt; a = torch.randn(4)\\n&gt;&gt;&gt; a\\ntensor([ 0.2341...</td>\n",
              "      <td>&gt;&gt;&gt; a = torch.randn(4)\\n&gt;&gt;&gt; a\\ntensor([ 0.2341...</td>\n",
              "    </tr>\n",
              "    <tr>\n",
              "      <th>1</th>\n",
              "      <td>How can a handle be used to remove the added h...</td>\n",
              "      <td>callinghandle.remove()</td>\n",
              "      <td>Hooks will be called in order of registration....</td>\n",
              "    </tr>\n",
              "    <tr>\n",
              "      <th>2</th>\n",
              "      <td>What tensor of sizewin_length can a window be?</td>\n",
              "      <td>1-D</td>\n",
              "      <td>windowcan be a 1-D tensor of sizewin_length, e...</td>\n",
              "    </tr>\n",
              "    <tr>\n",
              "      <th>3</th>\n",
              "      <td>What did aScriptModuleorScriptFunction previou...</td>\n",
              "      <td>withtorch.jit.save</td>\n",
              "      <td>Functionally equivalent to aScriptModule, but ...</td>\n",
              "    </tr>\n",
              "    <tr>\n",
              "      <th>4</th>\n",
              "      <td>What is used as an entry point into aScriptMod...</td>\n",
              "      <td>annn.Module</td>\n",
              "      <td>Warning The@torch.jit.ignoreannotation’s behav...</td>\n",
              "    </tr>\n",
              "  </tbody>\n",
              "</table>\n",
              "</div>"
            ],
            "text/plain": [
              "                                                   X  ...                                                  Z\n",
              "0            How to use torch.atan, give an example?  ...  >>> a = torch.randn(4)\\n>>> a\\ntensor([ 0.2341...\n",
              "1  How can a handle be used to remove the added h...  ...  Hooks will be called in order of registration....\n",
              "2     What tensor of sizewin_length can a window be?  ...  windowcan be a 1-D tensor of sizewin_length, e...\n",
              "3  What did aScriptModuleorScriptFunction previou...  ...  Functionally equivalent to aScriptModule, but ...\n",
              "4  What is used as an entry point into aScriptMod...  ...  Warning The@torch.jit.ignoreannotation’s behav...\n",
              "\n",
              "[5 rows x 3 columns]"
            ]
          },
          "metadata": {},
          "execution_count": 4
        }
      ]
    },
    {
      "cell_type": "code",
      "metadata": {
        "colab": {
          "base_uri": "https://localhost:8080/"
        },
        "id": "EqrrABNrq23R",
        "outputId": "de027f27-9cbe-4b70-d916-c5c0772446ae"
      },
      "source": [
        "len(data)"
      ],
      "execution_count": null,
      "outputs": [
        {
          "output_type": "execute_result",
          "data": {
            "text/plain": [
              "18682"
            ]
          },
          "metadata": {},
          "execution_count": 39
        }
      ]
    }
  ]
}